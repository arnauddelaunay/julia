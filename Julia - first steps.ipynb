{
 "cells": [
  {
   "cell_type": "markdown",
   "metadata": {
    "ExecuteTime": {
     "end_time": "2019-06-12T12:52:18.963000+02:00",
     "start_time": "2019-06-12T10:52:17.470Z"
    }
   },
   "source": [
    "# Basic operations"
   ]
  },
  {
   "cell_type": "markdown",
   "metadata": {},
   "source": [
    "## Print \"Hello world\""
   ]
  },
  {
   "cell_type": "code",
   "execution_count": null,
   "metadata": {
    "solution2": "hidden",
    "solution2_first": true
   },
   "outputs": [],
   "source": []
  },
  {
   "cell_type": "code",
   "execution_count": 1,
   "metadata": {
    "ExecuteTime": {
     "end_time": "2019-06-14T16:52:55.427000+02:00",
     "start_time": "2019-06-14T14:52:53.866Z"
    },
    "solution2": "hidden"
   },
   "outputs": [
    {
     "name": "stdout",
     "output_type": "stream",
     "text": [
      "Hello world\n"
     ]
    }
   ],
   "source": [
    "println(\"Hello world\")"
   ]
  },
  {
   "cell_type": "markdown",
   "metadata": {},
   "source": [
    "## Create a vector <em>A</em> with three elements : 1,2,3"
   ]
  },
  {
   "cell_type": "code",
   "execution_count": null,
   "metadata": {
    "solution2": "hidden",
    "solution2_first": true
   },
   "outputs": [],
   "source": []
  },
  {
   "cell_type": "code",
   "execution_count": 2,
   "metadata": {
    "ExecuteTime": {
     "end_time": "2019-06-14T16:52:56.355000+02:00",
     "start_time": "2019-06-14T14:52:53.870Z"
    },
    "solution2": "hidden"
   },
   "outputs": [
    {
     "data": {
      "text/plain": [
       "3-element Array{Int64,1}:\n",
       " 1\n",
       " 2\n",
       " 3"
      ]
     },
     "execution_count": 2,
     "metadata": {},
     "output_type": "execute_result"
    }
   ],
   "source": [
    "A = [1, 2, 3]"
   ]
  },
  {
   "cell_type": "code",
   "execution_count": 3,
   "metadata": {
    "ExecuteTime": {
     "end_time": "2019-06-14T16:52:56.357000+02:00",
     "start_time": "2019-06-14T14:52:53.871Z"
    },
    "solution2": "hidden",
    "solution2_first": true
   },
   "outputs": [
    {
     "data": {
      "text/plain": [
       "3-element Array{Int64,1}:\n",
       " 1\n",
       " 2\n",
       " 3"
      ]
     },
     "execution_count": 3,
     "metadata": {},
     "output_type": "execute_result"
    }
   ],
   "source": [
    "[1, 2, 3]"
   ]
  },
  {
   "cell_type": "code",
   "execution_count": 4,
   "metadata": {
    "ExecuteTime": {
     "end_time": "2019-06-14T16:52:57.015000+02:00",
     "start_time": "2019-06-14T14:52:53.873Z"
    },
    "solution2": "hidden",
    "solution2_first": true
   },
   "outputs": [
    {
     "data": {
      "text/plain": [
       "1×3 Array{Int64,2}:\n",
       " 1  2  3"
      ]
     },
     "execution_count": 4,
     "metadata": {},
     "output_type": "execute_result"
    }
   ],
   "source": [
    "A = [1 2 3]"
   ]
  },
  {
   "cell_type": "markdown",
   "metadata": {},
   "source": [
    "## Access the first element of your vector"
   ]
  },
  {
   "cell_type": "code",
   "execution_count": null,
   "metadata": {
    "solution2": "hidden",
    "solution2_first": true
   },
   "outputs": [],
   "source": []
  },
  {
   "cell_type": "code",
   "execution_count": 5,
   "metadata": {
    "ExecuteTime": {
     "end_time": "2019-06-14T16:52:57.272000+02:00",
     "start_time": "2019-06-14T14:52:53.876Z"
    },
    "solution2": "hidden"
   },
   "outputs": [
    {
     "data": {
      "text/plain": [
       "1"
      ]
     },
     "execution_count": 5,
     "metadata": {},
     "output_type": "execute_result"
    }
   ],
   "source": [
    "A[1] # Julia is 1-indexed"
   ]
  },
  {
   "cell_type": "code",
   "execution_count": null,
   "metadata": {},
   "outputs": [],
   "source": []
  },
  {
   "cell_type": "markdown",
   "metadata": {},
   "source": [
    "## Create a matrix <em>B</em> with 2 x 3 dimensions : 1, 2, 3 in first row and 4, 5, 6 in the second one"
   ]
  },
  {
   "cell_type": "code",
   "execution_count": null,
   "metadata": {
    "solution2": "hidden",
    "solution2_first": true
   },
   "outputs": [],
   "source": []
  },
  {
   "cell_type": "code",
   "execution_count": 6,
   "metadata": {
    "ExecuteTime": {
     "end_time": "2019-06-14T16:52:57.315000+02:00",
     "start_time": "2019-06-14T14:52:53.881Z"
    },
    "solution2": "hidden"
   },
   "outputs": [
    {
     "data": {
      "text/plain": [
       "2×3 Array{Int64,2}:\n",
       " 1  2  3\n",
       " 4  5  6"
      ]
     },
     "execution_count": 6,
     "metadata": {},
     "output_type": "execute_result"
    }
   ],
   "source": [
    "B = [1 2 3 ; 4 5 6] # Semi-colon is used to change rows, space to seperate columns"
   ]
  },
  {
   "cell_type": "markdown",
   "metadata": {},
   "source": [
    "## Transpose matrix B"
   ]
  },
  {
   "cell_type": "code",
   "execution_count": null,
   "metadata": {
    "solution2": "hidden",
    "solution2_first": true
   },
   "outputs": [],
   "source": []
  },
  {
   "cell_type": "code",
   "execution_count": 7,
   "metadata": {
    "ExecuteTime": {
     "end_time": "2019-06-14T16:52:57.997000+02:00",
     "start_time": "2019-06-14T14:52:53.885Z"
    },
    "solution2": "hidden"
   },
   "outputs": [
    {
     "data": {
      "text/plain": [
       "3×2 LinearAlgebra.Adjoint{Int64,Array{Int64,2}}:\n",
       " 1  4\n",
       " 2  5\n",
       " 3  6"
      ]
     },
     "execution_count": 7,
     "metadata": {},
     "output_type": "execute_result"
    }
   ],
   "source": [
    "B'"
   ]
  },
  {
   "cell_type": "markdown",
   "metadata": {},
   "source": [
    "## Create a loop to calculate factorial 5 (5!) and print the result"
   ]
  },
  {
   "cell_type": "code",
   "execution_count": null,
   "metadata": {
    "solution2": "hidden",
    "solution2_first": true
   },
   "outputs": [],
   "source": []
  },
  {
   "cell_type": "code",
   "execution_count": 8,
   "metadata": {
    "ExecuteTime": {
     "end_time": "2019-06-14T16:52:58.068000+02:00",
     "start_time": "2019-06-14T14:52:53.888Z"
    },
    "solution2": "hidden"
   },
   "outputs": [
    {
     "name": "stdout",
     "output_type": "stream",
     "text": [
      "120"
     ]
    }
   ],
   "source": [
    "fact=1\n",
    "for i in range(1, stop=5)\n",
    "    fact = fact*i\n",
    "end\n",
    "print(fact)"
   ]
  },
  {
   "cell_type": "markdown",
   "metadata": {},
   "source": [
    "## For numbers from -3 to 3 create an  <em>if-else</em> statement that prints \"X is positive\" if the number is positive and \"X is negative\" otherwise"
   ]
  },
  {
   "cell_type": "code",
   "execution_count": null,
   "metadata": {
    "solution2": "hidden",
    "solution2_first": true
   },
   "outputs": [],
   "source": []
  },
  {
   "cell_type": "code",
   "execution_count": 9,
   "metadata": {
    "ExecuteTime": {
     "end_time": "2019-06-14T16:52:58.106000+02:00",
     "start_time": "2019-06-14T14:52:53.892Z"
    },
    "solution2": "hidden"
   },
   "outputs": [
    {
     "name": "stdout",
     "output_type": "stream",
     "text": [
      "-3 is negative\n",
      "-2 is negative\n",
      "-1 is negative\n",
      "0 is positive\n",
      "1 is positive\n",
      "2 is positive\n",
      "3 is positive\n"
     ]
    }
   ],
   "source": [
    "for number in -3:3\n",
    "    if number >= 0 \n",
    "      println(\"$number is positive\") \n",
    "  else \n",
    "      println(\"$number is negative\") \n",
    "  end\n",
    "end"
   ]
  },
  {
   "cell_type": "markdown",
   "metadata": {},
   "source": [
    "# Dataframes and Machine Learning"
   ]
  },
  {
   "cell_type": "markdown",
   "metadata": {},
   "source": [
    "## Create dataframe using Dataframe package"
   ]
  },
  {
   "cell_type": "markdown",
   "metadata": {},
   "source": [
    "### With <em>using</em>, import <em>Pkg</em>, Julia's builtin package manager, and handles operations such as installing, updating and removing packages."
   ]
  },
  {
   "cell_type": "code",
   "execution_count": null,
   "metadata": {
    "solution2": "hidden",
    "solution2_first": true
   },
   "outputs": [],
   "source": []
  },
  {
   "cell_type": "code",
   "execution_count": 10,
   "metadata": {
    "ExecuteTime": {
     "end_time": "2019-06-14T16:52:58.107000+02:00",
     "start_time": "2019-06-14T14:52:53.896Z"
    },
    "solution2": "hidden"
   },
   "outputs": [],
   "source": [
    "using Pkg"
   ]
  },
  {
   "cell_type": "markdown",
   "metadata": {},
   "source": [
    "### Using <em>Pkg</em> import <em>DataFrames</em> package"
   ]
  },
  {
   "cell_type": "code",
   "execution_count": null,
   "metadata": {
    "solution2": "hidden",
    "solution2_first": true
   },
   "outputs": [],
   "source": []
  },
  {
   "cell_type": "code",
   "execution_count": 11,
   "metadata": {
    "ExecuteTime": {
     "end_time": "2019-06-14T16:53:06.936000+02:00",
     "start_time": "2019-06-14T14:52:53.900Z"
    },
    "solution2": "hidden"
   },
   "outputs": [
    {
     "name": "stdout",
     "output_type": "stream",
     "text": [
      "\u001b[32m\u001b[1m  Updating\u001b[22m\u001b[39m registry at `~/.julia/registries/General`\n",
      "\u001b[32m\u001b[1m  Updating\u001b[22m\u001b[39m git-repo `https://github.com/JuliaRegistries/General.git`\n",
      "\u001b[?25l\u001b[2K\u001b[?25h\u001b[32m\u001b[1m Resolving\u001b[22m\u001b[39m package versions...\n",
      "\u001b[32m\u001b[1m  Updating\u001b[22m\u001b[39m `~/.julia/environments/v1.1/Project.toml`\n",
      "\u001b[90m [no changes]\u001b[39m\n",
      "\u001b[32m\u001b[1m  Updating\u001b[22m\u001b[39m `~/.julia/environments/v1.1/Manifest.toml`\n",
      "\u001b[90m [no changes]\u001b[39m\n"
     ]
    }
   ],
   "source": [
    "Pkg.add(\"DataFrames\")"
   ]
  },
  {
   "cell_type": "markdown",
   "metadata": {},
   "source": [
    "### Create dataframe <em>Capitals</em> with two columns, one with <em>City</em> including <em>Paris, Warsaw </em> and another with <em>Country</em> : <em>France, Poland</em>"
   ]
  },
  {
   "cell_type": "code",
   "execution_count": null,
   "metadata": {
    "solution2": "hidden",
    "solution2_first": true
   },
   "outputs": [],
   "source": []
  },
  {
   "cell_type": "code",
   "execution_count": 12,
   "metadata": {
    "ExecuteTime": {
     "end_time": "2019-06-14T16:53:07.402000+02:00",
     "start_time": "2019-06-14T14:52:53.904Z"
    },
    "solution2": "hidden"
   },
   "outputs": [
    {
     "ename": "UndefVarError",
     "evalue": "UndefVarError: DataFrame not defined",
     "output_type": "error",
     "traceback": [
      "UndefVarError: DataFrame not defined",
      "",
      "Stacktrace:",
      " [1] top-level scope at In[12]:1"
     ]
    }
   ],
   "source": [
    "Capitals = DataFrame(City = [\"Paris\", \"Warsaw\"], Country = [\"France\", \"Poland\"])"
   ]
  },
  {
   "cell_type": "markdown",
   "metadata": {
    "ExecuteTime": {
     "end_time": "2019-06-14T12:57:08.975000+02:00",
     "start_time": "2019-06-14T10:57:08.973Z"
    }
   },
   "source": [
    "### Access column Countries"
   ]
  },
  {
   "cell_type": "code",
   "execution_count": null,
   "metadata": {
    "solution2": "hidden",
    "solution2_first": true
   },
   "outputs": [],
   "source": []
  },
  {
   "cell_type": "markdown",
   "metadata": {
    "ExecuteTime": {
     "end_time": "2019-06-14T16:24:37.491000+02:00",
     "start_time": "2019-06-14T14:24:37.489Z"
    }
   },
   "source": [
    "### Sort dataframe by Country"
   ]
  },
  {
   "cell_type": "code",
   "execution_count": null,
   "metadata": {
    "solution2": "hidden",
    "solution2_first": true
   },
   "outputs": [],
   "source": []
  },
  {
   "cell_type": "code",
   "execution_count": 13,
   "metadata": {
    "ExecuteTime": {
     "end_time": "2019-06-14T16:53:07.409000+02:00",
     "start_time": "2019-06-14T14:52:53.910Z"
    },
    "solution2": "hidden"
   },
   "outputs": [
    {
     "ename": "UndefVarError",
     "evalue": "UndefVarError: Capitals not defined",
     "output_type": "error",
     "traceback": [
      "UndefVarError: Capitals not defined",
      "",
      "Stacktrace:",
      " [1] top-level scope at In[13]:1"
     ]
    }
   ],
   "source": [
    "sort!(Capitals, cols=:Country)"
   ]
  },
  {
   "cell_type": "code",
   "execution_count": 14,
   "metadata": {
    "ExecuteTime": {
     "end_time": "2019-06-14T16:53:07.413000+02:00",
     "start_time": "2019-06-14T14:52:53.912Z"
    },
    "solution2": "hidden"
   },
   "outputs": [
    {
     "ename": "UndefVarError",
     "evalue": "UndefVarError: Capitals not defined",
     "output_type": "error",
     "traceback": [
      "UndefVarError: Capitals not defined",
      "",
      "Stacktrace:",
      " [1] top-level scope at In[14]:1"
     ]
    }
   ],
   "source": [
    "Capitals[:Countries] \n",
    "# or\n",
    "# Capitals[2] \n",
    "# Capitals.Countries"
   ]
  },
  {
   "cell_type": "markdown",
   "metadata": {
    "ExecuteTime": {
     "end_time": "2019-06-14T13:04:31.338000+02:00",
     "start_time": "2019-06-14T11:04:31.336Z"
    }
   },
   "source": [
    "## Read CSV"
   ]
  },
  {
   "cell_type": "markdown",
   "metadata": {},
   "source": [
    "### Specify dataset (train.csv, test.csv) directory with command <em>cd(your/working/directory)</em>"
   ]
  },
  {
   "cell_type": "code",
   "execution_count": null,
   "metadata": {
    "solution2": "hidden",
    "solution2_first": true
   },
   "outputs": [],
   "source": []
  },
  {
   "cell_type": "code",
   "execution_count": 15,
   "metadata": {
    "ExecuteTime": {
     "end_time": "2019-06-14T16:53:07.414000+02:00",
     "start_time": "2019-06-14T14:52:53.916Z"
    },
    "solution2": "hidden"
   },
   "outputs": [],
   "source": [
    "cd(\"/Users/sandrapietrowska/Documents/xke/julia/julia_data/\")"
   ]
  },
  {
   "cell_type": "code",
   "execution_count": 16,
   "metadata": {
    "ExecuteTime": {
     "end_time": "2019-06-14T16:53:20.094000+02:00",
     "start_time": "2019-06-14T14:52:53.920Z"
    }
   },
   "outputs": [
    {
     "data": {
      "text/html": [
       "<table class=\"data-frame\"><thead><tr><th></th><th>Loan_ID</th><th>Gender</th><th>Married</th><th>Dependents</th><th>Education</th><th>Self_Employed</th><th>ApplicantIncome</th></tr><tr><th></th><th>String</th><th>String⍰</th><th>String</th><th>String⍰</th><th>String</th><th>String⍰</th><th>Int64</th></tr></thead><tbody><p>367 rows × 12 columns (omitted printing of 5 columns)</p><tr><th>1</th><td>LP001015</td><td>Male</td><td>Yes</td><td>0</td><td>Graduate</td><td>No</td><td>5720</td></tr><tr><th>2</th><td>LP001022</td><td>Male</td><td>Yes</td><td>1</td><td>Graduate</td><td>No</td><td>3076</td></tr><tr><th>3</th><td>LP001031</td><td>Male</td><td>Yes</td><td>2</td><td>Graduate</td><td>No</td><td>5000</td></tr><tr><th>4</th><td>LP001035</td><td>Male</td><td>Yes</td><td>2</td><td>Graduate</td><td>No</td><td>2340</td></tr><tr><th>5</th><td>LP001051</td><td>Male</td><td>No</td><td>0</td><td>Not Graduate</td><td>No</td><td>3276</td></tr><tr><th>6</th><td>LP001054</td><td>Male</td><td>Yes</td><td>0</td><td>Not Graduate</td><td>Yes</td><td>2165</td></tr><tr><th>7</th><td>LP001055</td><td>Female</td><td>No</td><td>1</td><td>Not Graduate</td><td>No</td><td>2226</td></tr><tr><th>8</th><td>LP001056</td><td>Male</td><td>Yes</td><td>2</td><td>Not Graduate</td><td>No</td><td>3881</td></tr><tr><th>9</th><td>LP001059</td><td>Male</td><td>Yes</td><td>2</td><td>Graduate</td><td>missing</td><td>13633</td></tr><tr><th>10</th><td>LP001067</td><td>Male</td><td>No</td><td>0</td><td>Not Graduate</td><td>No</td><td>2400</td></tr><tr><th>11</th><td>LP001078</td><td>Male</td><td>No</td><td>0</td><td>Not Graduate</td><td>No</td><td>3091</td></tr><tr><th>12</th><td>LP001082</td><td>Male</td><td>Yes</td><td>1</td><td>Graduate</td><td>missing</td><td>2185</td></tr><tr><th>13</th><td>LP001083</td><td>Male</td><td>No</td><td>3+</td><td>Graduate</td><td>No</td><td>4166</td></tr><tr><th>14</th><td>LP001094</td><td>Male</td><td>Yes</td><td>2</td><td>Graduate</td><td>missing</td><td>12173</td></tr><tr><th>15</th><td>LP001096</td><td>Female</td><td>No</td><td>0</td><td>Graduate</td><td>No</td><td>4666</td></tr><tr><th>16</th><td>LP001099</td><td>Male</td><td>No</td><td>1</td><td>Graduate</td><td>No</td><td>5667</td></tr><tr><th>17</th><td>LP001105</td><td>Male</td><td>Yes</td><td>2</td><td>Graduate</td><td>No</td><td>4583</td></tr><tr><th>18</th><td>LP001107</td><td>Male</td><td>Yes</td><td>3+</td><td>Graduate</td><td>No</td><td>3786</td></tr><tr><th>19</th><td>LP001108</td><td>Male</td><td>Yes</td><td>0</td><td>Graduate</td><td>No</td><td>9226</td></tr><tr><th>20</th><td>LP001115</td><td>Male</td><td>No</td><td>0</td><td>Graduate</td><td>No</td><td>1300</td></tr><tr><th>21</th><td>LP001121</td><td>Male</td><td>Yes</td><td>1</td><td>Not Graduate</td><td>No</td><td>1888</td></tr><tr><th>22</th><td>LP001124</td><td>Female</td><td>No</td><td>3+</td><td>Not Graduate</td><td>No</td><td>2083</td></tr><tr><th>23</th><td>LP001128</td><td>missing</td><td>No</td><td>0</td><td>Graduate</td><td>No</td><td>3909</td></tr><tr><th>24</th><td>LP001135</td><td>Female</td><td>No</td><td>0</td><td>Not Graduate</td><td>No</td><td>3765</td></tr><tr><th>25</th><td>LP001149</td><td>Male</td><td>Yes</td><td>0</td><td>Graduate</td><td>No</td><td>5400</td></tr><tr><th>26</th><td>LP001153</td><td>Male</td><td>No</td><td>0</td><td>Graduate</td><td>No</td><td>0</td></tr><tr><th>27</th><td>LP001163</td><td>Male</td><td>Yes</td><td>2</td><td>Graduate</td><td>No</td><td>4363</td></tr><tr><th>28</th><td>LP001169</td><td>Male</td><td>Yes</td><td>0</td><td>Graduate</td><td>No</td><td>7500</td></tr><tr><th>29</th><td>LP001174</td><td>Male</td><td>Yes</td><td>0</td><td>Graduate</td><td>No</td><td>3772</td></tr><tr><th>30</th><td>LP001176</td><td>Male</td><td>No</td><td>0</td><td>Graduate</td><td>No</td><td>2942</td></tr><tr><th>&vellip;</th><td>&vellip;</td><td>&vellip;</td><td>&vellip;</td><td>&vellip;</td><td>&vellip;</td><td>&vellip;</td><td>&vellip;</td></tr></tbody></table>"
      ],
      "text/latex": [
       "\\begin{tabular}{r|cccccccc}\n",
       "\t& Loan\\_ID & Gender & Married & Dependents & Education & Self\\_Employed & ApplicantIncome & \\\\\n",
       "\t\\hline\n",
       "\t& String & String⍰ & String & String⍰ & String & String⍰ & Int64 & \\\\\n",
       "\t\\hline\n",
       "\t1 & LP001015 & Male & Yes & 0 & Graduate & No & 5720 & $\\dots$ \\\\\n",
       "\t2 & LP001022 & Male & Yes & 1 & Graduate & No & 3076 & $\\dots$ \\\\\n",
       "\t3 & LP001031 & Male & Yes & 2 & Graduate & No & 5000 & $\\dots$ \\\\\n",
       "\t4 & LP001035 & Male & Yes & 2 & Graduate & No & 2340 & $\\dots$ \\\\\n",
       "\t5 & LP001051 & Male & No & 0 & Not Graduate & No & 3276 & $\\dots$ \\\\\n",
       "\t6 & LP001054 & Male & Yes & 0 & Not Graduate & Yes & 2165 & $\\dots$ \\\\\n",
       "\t7 & LP001055 & Female & No & 1 & Not Graduate & No & 2226 & $\\dots$ \\\\\n",
       "\t8 & LP001056 & Male & Yes & 2 & Not Graduate & No & 3881 & $\\dots$ \\\\\n",
       "\t9 & LP001059 & Male & Yes & 2 & Graduate &  & 13633 & $\\dots$ \\\\\n",
       "\t10 & LP001067 & Male & No & 0 & Not Graduate & No & 2400 & $\\dots$ \\\\\n",
       "\t11 & LP001078 & Male & No & 0 & Not Graduate & No & 3091 & $\\dots$ \\\\\n",
       "\t12 & LP001082 & Male & Yes & 1 & Graduate &  & 2185 & $\\dots$ \\\\\n",
       "\t13 & LP001083 & Male & No & 3+ & Graduate & No & 4166 & $\\dots$ \\\\\n",
       "\t14 & LP001094 & Male & Yes & 2 & Graduate &  & 12173 & $\\dots$ \\\\\n",
       "\t15 & LP001096 & Female & No & 0 & Graduate & No & 4666 & $\\dots$ \\\\\n",
       "\t16 & LP001099 & Male & No & 1 & Graduate & No & 5667 & $\\dots$ \\\\\n",
       "\t17 & LP001105 & Male & Yes & 2 & Graduate & No & 4583 & $\\dots$ \\\\\n",
       "\t18 & LP001107 & Male & Yes & 3+ & Graduate & No & 3786 & $\\dots$ \\\\\n",
       "\t19 & LP001108 & Male & Yes & 0 & Graduate & No & 9226 & $\\dots$ \\\\\n",
       "\t20 & LP001115 & Male & No & 0 & Graduate & No & 1300 & $\\dots$ \\\\\n",
       "\t21 & LP001121 & Male & Yes & 1 & Not Graduate & No & 1888 & $\\dots$ \\\\\n",
       "\t22 & LP001124 & Female & No & 3+ & Not Graduate & No & 2083 & $\\dots$ \\\\\n",
       "\t23 & LP001128 &  & No & 0 & Graduate & No & 3909 & $\\dots$ \\\\\n",
       "\t24 & LP001135 & Female & No & 0 & Not Graduate & No & 3765 & $\\dots$ \\\\\n",
       "\t25 & LP001149 & Male & Yes & 0 & Graduate & No & 5400 & $\\dots$ \\\\\n",
       "\t26 & LP001153 & Male & No & 0 & Graduate & No & 0 & $\\dots$ \\\\\n",
       "\t27 & LP001163 & Male & Yes & 2 & Graduate & No & 4363 & $\\dots$ \\\\\n",
       "\t28 & LP001169 & Male & Yes & 0 & Graduate & No & 7500 & $\\dots$ \\\\\n",
       "\t29 & LP001174 & Male & Yes & 0 & Graduate & No & 3772 & $\\dots$ \\\\\n",
       "\t30 & LP001176 & Male & No & 0 & Graduate & No & 2942 & $\\dots$ \\\\\n",
       "\t$\\dots$ & $\\dots$ & $\\dots$ & $\\dots$ & $\\dots$ & $\\dots$ & $\\dots$ & $\\dots$ &  \\\\\n",
       "\\end{tabular}\n"
      ],
      "text/plain": [
       "367×12 DataFrame. Omitted printing of 7 columns\n",
       "│ Row │ Loan_ID  │ Gender  │ Married │ Dependents │ Education    │\n",
       "│     │ \u001b[90mString\u001b[39m   │ \u001b[90mString⍰\u001b[39m │ \u001b[90mString\u001b[39m  │ \u001b[90mString⍰\u001b[39m    │ \u001b[90mString\u001b[39m       │\n",
       "├─────┼──────────┼─────────┼─────────┼────────────┼──────────────┤\n",
       "│ 1   │ LP001015 │ Male    │ Yes     │ 0          │ Graduate     │\n",
       "│ 2   │ LP001022 │ Male    │ Yes     │ 1          │ Graduate     │\n",
       "│ 3   │ LP001031 │ Male    │ Yes     │ 2          │ Graduate     │\n",
       "│ 4   │ LP001035 │ Male    │ Yes     │ 2          │ Graduate     │\n",
       "│ 5   │ LP001051 │ Male    │ No      │ 0          │ Not Graduate │\n",
       "│ 6   │ LP001054 │ Male    │ Yes     │ 0          │ Not Graduate │\n",
       "│ 7   │ LP001055 │ Female  │ No      │ 1          │ Not Graduate │\n",
       "│ 8   │ LP001056 │ Male    │ Yes     │ 2          │ Not Graduate │\n",
       "│ 9   │ LP001059 │ Male    │ Yes     │ 2          │ Graduate     │\n",
       "│ 10  │ LP001067 │ Male    │ No      │ 0          │ Not Graduate │\n",
       "⋮\n",
       "│ 357 │ LP002935 │ Male    │ Yes     │ 1          │ Graduate     │\n",
       "│ 358 │ LP002952 │ Male    │ No      │ 0          │ Graduate     │\n",
       "│ 359 │ LP002954 │ Male    │ Yes     │ 2          │ Not Graduate │\n",
       "│ 360 │ LP002962 │ Male    │ No      │ 0          │ Graduate     │\n",
       "│ 361 │ LP002965 │ Female  │ Yes     │ 0          │ Graduate     │\n",
       "│ 362 │ LP002969 │ Male    │ Yes     │ 1          │ Graduate     │\n",
       "│ 363 │ LP002971 │ Male    │ Yes     │ 3+         │ Not Graduate │\n",
       "│ 364 │ LP002975 │ Male    │ Yes     │ 0          │ Graduate     │\n",
       "│ 365 │ LP002980 │ Male    │ No      │ 0          │ Graduate     │\n",
       "│ 366 │ LP002986 │ Male    │ Yes     │ 0          │ Graduate     │\n",
       "│ 367 │ LP002989 │ Male    │ No      │ 0          │ Graduate     │"
      ]
     },
     "execution_count": 16,
     "metadata": {},
     "output_type": "execute_result"
    }
   ],
   "source": [
    "using DataFrames\n",
    "using CSV\n",
    "train = CSV.read(\"train.csv\")\n",
    "test = CSV.read(\"test.csv\")"
   ]
  },
  {
   "cell_type": "markdown",
   "metadata": {},
   "source": [
    "### Use </em>describe</em> function to see the basic statistics "
   ]
  },
  {
   "cell_type": "code",
   "execution_count": null,
   "metadata": {
    "solution2": "shown",
    "solution2_first": true
   },
   "outputs": [],
   "source": []
  },
  {
   "cell_type": "code",
   "execution_count": 17,
   "metadata": {
    "ExecuteTime": {
     "end_time": "2019-06-14T16:53:25.329000+02:00",
     "start_time": "2019-06-14T14:52:53.924Z"
    },
    "solution2": "shown"
   },
   "outputs": [
    {
     "data": {
      "text/html": [
       "<table class=\"data-frame\"><thead><tr><th></th><th>variable</th><th>mean</th><th>min</th><th>median</th><th>max</th><th>nunique</th><th>nmissing</th></tr><tr><th></th><th>Symbol</th><th>Union…</th><th>Any</th><th>Union…</th><th>Any</th><th>Union…</th><th>Union…</th></tr></thead><tbody><p>13 rows × 8 columns (omitted printing of 1 columns)</p><tr><th>1</th><td>Loan_ID</td><td></td><td>LP001002</td><td></td><td>LP002990</td><td>614</td><td></td></tr><tr><th>2</th><td>Gender</td><td></td><td>Female</td><td></td><td>Male</td><td>2</td><td>13</td></tr><tr><th>3</th><td>Married</td><td></td><td>No</td><td></td><td>Yes</td><td>2</td><td>3</td></tr><tr><th>4</th><td>Dependents</td><td></td><td>0</td><td></td><td>3+</td><td>4</td><td>15</td></tr><tr><th>5</th><td>Education</td><td></td><td>Graduate</td><td></td><td>Not Graduate</td><td>2</td><td></td></tr><tr><th>6</th><td>Self_Employed</td><td></td><td>No</td><td></td><td>Yes</td><td>2</td><td>32</td></tr><tr><th>7</th><td>ApplicantIncome</td><td>5403.46</td><td>150</td><td>3812.5</td><td>81000</td><td></td><td></td></tr><tr><th>8</th><td>CoapplicantIncome</td><td>1621.25</td><td>0.0</td><td>1188.5</td><td>41667.0</td><td></td><td></td></tr><tr><th>9</th><td>LoanAmount</td><td>146.412</td><td>9</td><td>128.0</td><td>700</td><td></td><td>22</td></tr><tr><th>10</th><td>Loan_Amount_Term</td><td>342.0</td><td>12</td><td>360.0</td><td>480</td><td></td><td>14</td></tr><tr><th>11</th><td>Credit_History</td><td>0.842199</td><td>0</td><td>1.0</td><td>1</td><td></td><td>50</td></tr><tr><th>12</th><td>Property_Area</td><td></td><td>Rural</td><td></td><td>Urban</td><td>3</td><td></td></tr><tr><th>13</th><td>Loan_Status</td><td></td><td>N</td><td></td><td>Y</td><td>2</td><td></td></tr></tbody></table>"
      ],
      "text/latex": [
       "\\begin{tabular}{r|cccccccc}\n",
       "\t& variable & mean & min & median & max & nunique & nmissing & \\\\\n",
       "\t\\hline\n",
       "\t& Symbol & Union… & Any & Union… & Any & Union… & Union… & \\\\\n",
       "\t\\hline\n",
       "\t1 & Loan\\_ID &  & LP001002 &  & LP002990 & 614 &  & $\\dots$ \\\\\n",
       "\t2 & Gender &  & Female &  & Male & 2 & 13 & $\\dots$ \\\\\n",
       "\t3 & Married &  & No &  & Yes & 2 & 3 & $\\dots$ \\\\\n",
       "\t4 & Dependents &  & 0 &  & 3+ & 4 & 15 & $\\dots$ \\\\\n",
       "\t5 & Education &  & Graduate &  & Not Graduate & 2 &  & $\\dots$ \\\\\n",
       "\t6 & Self\\_Employed &  & No &  & Yes & 2 & 32 & $\\dots$ \\\\\n",
       "\t7 & ApplicantIncome & 5403.46 & 150 & 3812.5 & 81000 &  &  & $\\dots$ \\\\\n",
       "\t8 & CoapplicantIncome & 1621.25 & 0.0 & 1188.5 & 41667.0 &  &  & $\\dots$ \\\\\n",
       "\t9 & LoanAmount & 146.412 & 9 & 128.0 & 700 &  & 22 & $\\dots$ \\\\\n",
       "\t10 & Loan\\_Amount\\_Term & 342.0 & 12 & 360.0 & 480 &  & 14 & $\\dots$ \\\\\n",
       "\t11 & Credit\\_History & 0.842199 & 0 & 1.0 & 1 &  & 50 & $\\dots$ \\\\\n",
       "\t12 & Property\\_Area &  & Rural &  & Urban & 3 &  & $\\dots$ \\\\\n",
       "\t13 & Loan\\_Status &  & N &  & Y & 2 &  & $\\dots$ \\\\\n",
       "\\end{tabular}\n"
      ],
      "text/plain": [
       "13×8 DataFrame. Omitted printing of 3 columns\n",
       "│ Row │ variable          │ mean     │ min      │ median │ max          │\n",
       "│     │ \u001b[90mSymbol\u001b[39m            │ \u001b[90mUnion…\u001b[39m   │ \u001b[90mAny\u001b[39m      │ \u001b[90mUnion…\u001b[39m │ \u001b[90mAny\u001b[39m          │\n",
       "├─────┼───────────────────┼──────────┼──────────┼────────┼──────────────┤\n",
       "│ 1   │ Loan_ID           │          │ LP001002 │        │ LP002990     │\n",
       "│ 2   │ Gender            │          │ Female   │        │ Male         │\n",
       "│ 3   │ Married           │          │ No       │        │ Yes          │\n",
       "│ 4   │ Dependents        │          │ 0        │        │ 3+           │\n",
       "│ 5   │ Education         │          │ Graduate │        │ Not Graduate │\n",
       "│ 6   │ Self_Employed     │          │ No       │        │ Yes          │\n",
       "│ 7   │ ApplicantIncome   │ 5403.46  │ 150      │ 3812.5 │ 81000        │\n",
       "│ 8   │ CoapplicantIncome │ 1621.25  │ 0.0      │ 1188.5 │ 41667.0      │\n",
       "│ 9   │ LoanAmount        │ 146.412  │ 9        │ 128.0  │ 700          │\n",
       "│ 10  │ Loan_Amount_Term  │ 342.0    │ 12       │ 360.0  │ 480          │\n",
       "│ 11  │ Credit_History    │ 0.842199 │ 0        │ 1.0    │ 1            │\n",
       "│ 12  │ Property_Area     │          │ Rural    │        │ Urban        │\n",
       "│ 13  │ Loan_Status       │          │ N        │        │ Y            │"
      ]
     },
     "execution_count": 17,
     "metadata": {},
     "output_type": "execute_result"
    }
   ],
   "source": [
    "describe(train)"
   ]
  },
  {
   "cell_type": "markdown",
   "metadata": {},
   "source": [
    "### Use <em>names</em> function to see the column names"
   ]
  },
  {
   "cell_type": "code",
   "execution_count": null,
   "metadata": {
    "solution2": "hidden",
    "solution2_first": true
   },
   "outputs": [],
   "source": []
  },
  {
   "cell_type": "code",
   "execution_count": 18,
   "metadata": {
    "ExecuteTime": {
     "end_time": "2019-06-14T16:53:25.997000+02:00",
     "start_time": "2019-06-14T14:52:53.928Z"
    },
    "solution2": "hidden"
   },
   "outputs": [
    {
     "data": {
      "text/plain": [
       "13-element Array{Symbol,1}:\n",
       " :Loan_ID          \n",
       " :Gender           \n",
       " :Married          \n",
       " :Dependents       \n",
       " :Education        \n",
       " :Self_Employed    \n",
       " :ApplicantIncome  \n",
       " :CoapplicantIncome\n",
       " :LoanAmount       \n",
       " :Loan_Amount_Term \n",
       " :Credit_History   \n",
       " :Property_Area    \n",
       " :Loan_Status      "
      ]
     },
     "execution_count": 18,
     "metadata": {},
     "output_type": "execute_result"
    }
   ],
   "source": [
    "names(train)"
   ]
  },
  {
   "cell_type": "markdown",
   "metadata": {
    "ExecuteTime": {
     "end_time": "2019-06-14T15:18:31.264000+02:00",
     "start_time": "2019-06-14T13:18:31.262Z"
    }
   },
   "source": [
    "### Use <em>size</em> function to see the size of train set"
   ]
  },
  {
   "cell_type": "code",
   "execution_count": 19,
   "metadata": {
    "ExecuteTime": {
     "end_time": "2019-06-14T16:53:26.341000+02:00",
     "start_time": "2019-06-14T14:52:53.932Z"
    }
   },
   "outputs": [
    {
     "data": {
      "text/plain": [
       "(614, 13)"
      ]
     },
     "execution_count": 19,
     "metadata": {},
     "output_type": "execute_result"
    }
   ],
   "source": [
    "size(train)"
   ]
  },
  {
   "cell_type": "markdown",
   "metadata": {},
   "source": [
    "### Use <em>first</em> to display 10 rows"
   ]
  },
  {
   "cell_type": "code",
   "execution_count": 20,
   "metadata": {
    "ExecuteTime": {
     "end_time": "2019-06-14T16:53:26.657000+02:00",
     "start_time": "2019-06-14T14:52:53.935Z"
    }
   },
   "outputs": [
    {
     "data": {
      "text/html": [
       "<table class=\"data-frame\"><thead><tr><th></th><th>Loan_ID</th><th>Gender</th><th>Married</th><th>Dependents</th><th>Education</th><th>Self_Employed</th><th>ApplicantIncome</th></tr><tr><th></th><th>String</th><th>String⍰</th><th>String⍰</th><th>String⍰</th><th>String</th><th>String⍰</th><th>Int64</th></tr></thead><tbody><p>10 rows × 13 columns (omitted printing of 6 columns)</p><tr><th>1</th><td>LP001002</td><td>Male</td><td>No</td><td>0</td><td>Graduate</td><td>No</td><td>5849</td></tr><tr><th>2</th><td>LP001003</td><td>Male</td><td>Yes</td><td>1</td><td>Graduate</td><td>No</td><td>4583</td></tr><tr><th>3</th><td>LP001005</td><td>Male</td><td>Yes</td><td>0</td><td>Graduate</td><td>Yes</td><td>3000</td></tr><tr><th>4</th><td>LP001006</td><td>Male</td><td>Yes</td><td>0</td><td>Not Graduate</td><td>No</td><td>2583</td></tr><tr><th>5</th><td>LP001008</td><td>Male</td><td>No</td><td>0</td><td>Graduate</td><td>No</td><td>6000</td></tr><tr><th>6</th><td>LP001011</td><td>Male</td><td>Yes</td><td>2</td><td>Graduate</td><td>Yes</td><td>5417</td></tr><tr><th>7</th><td>LP001013</td><td>Male</td><td>Yes</td><td>0</td><td>Not Graduate</td><td>No</td><td>2333</td></tr><tr><th>8</th><td>LP001014</td><td>Male</td><td>Yes</td><td>3+</td><td>Graduate</td><td>No</td><td>3036</td></tr><tr><th>9</th><td>LP001018</td><td>Male</td><td>Yes</td><td>2</td><td>Graduate</td><td>No</td><td>4006</td></tr><tr><th>10</th><td>LP001020</td><td>Male</td><td>Yes</td><td>1</td><td>Graduate</td><td>No</td><td>12841</td></tr></tbody></table>"
      ],
      "text/latex": [
       "\\begin{tabular}{r|cccccccc}\n",
       "\t& Loan\\_ID & Gender & Married & Dependents & Education & Self\\_Employed & ApplicantIncome & \\\\\n",
       "\t\\hline\n",
       "\t& String & String⍰ & String⍰ & String⍰ & String & String⍰ & Int64 & \\\\\n",
       "\t\\hline\n",
       "\t1 & LP001002 & Male & No & 0 & Graduate & No & 5849 & $\\dots$ \\\\\n",
       "\t2 & LP001003 & Male & Yes & 1 & Graduate & No & 4583 & $\\dots$ \\\\\n",
       "\t3 & LP001005 & Male & Yes & 0 & Graduate & Yes & 3000 & $\\dots$ \\\\\n",
       "\t4 & LP001006 & Male & Yes & 0 & Not Graduate & No & 2583 & $\\dots$ \\\\\n",
       "\t5 & LP001008 & Male & No & 0 & Graduate & No & 6000 & $\\dots$ \\\\\n",
       "\t6 & LP001011 & Male & Yes & 2 & Graduate & Yes & 5417 & $\\dots$ \\\\\n",
       "\t7 & LP001013 & Male & Yes & 0 & Not Graduate & No & 2333 & $\\dots$ \\\\\n",
       "\t8 & LP001014 & Male & Yes & 3+ & Graduate & No & 3036 & $\\dots$ \\\\\n",
       "\t9 & LP001018 & Male & Yes & 2 & Graduate & No & 4006 & $\\dots$ \\\\\n",
       "\t10 & LP001020 & Male & Yes & 1 & Graduate & No & 12841 & $\\dots$ \\\\\n",
       "\\end{tabular}\n"
      ],
      "text/plain": [
       "10×13 DataFrame. Omitted printing of 8 columns\n",
       "│ Row │ Loan_ID  │ Gender  │ Married │ Dependents │ Education    │\n",
       "│     │ \u001b[90mString\u001b[39m   │ \u001b[90mString⍰\u001b[39m │ \u001b[90mString⍰\u001b[39m │ \u001b[90mString⍰\u001b[39m    │ \u001b[90mString\u001b[39m       │\n",
       "├─────┼──────────┼─────────┼─────────┼────────────┼──────────────┤\n",
       "│ 1   │ LP001002 │ Male    │ No      │ 0          │ Graduate     │\n",
       "│ 2   │ LP001003 │ Male    │ Yes     │ 1          │ Graduate     │\n",
       "│ 3   │ LP001005 │ Male    │ Yes     │ 0          │ Graduate     │\n",
       "│ 4   │ LP001006 │ Male    │ Yes     │ 0          │ Not Graduate │\n",
       "│ 5   │ LP001008 │ Male    │ No      │ 0          │ Graduate     │\n",
       "│ 6   │ LP001011 │ Male    │ Yes     │ 2          │ Graduate     │\n",
       "│ 7   │ LP001013 │ Male    │ Yes     │ 0          │ Not Graduate │\n",
       "│ 8   │ LP001014 │ Male    │ Yes     │ 3+         │ Graduate     │\n",
       "│ 9   │ LP001018 │ Male    │ Yes     │ 2          │ Graduate     │\n",
       "│ 10  │ LP001020 │ Male    │ Yes     │ 1          │ Graduate     │"
      ]
     },
     "execution_count": 20,
     "metadata": {},
     "output_type": "execute_result"
    }
   ],
   "source": [
    "first(train, 10)"
   ]
  },
  {
   "cell_type": "markdown",
   "metadata": {},
   "source": [
    "### Calculate average income by gender using <em>by</em> function"
   ]
  },
  {
   "cell_type": "code",
   "execution_count": null,
   "metadata": {
    "solution2": "hidden",
    "solution2_first": true
   },
   "outputs": [],
   "source": []
  },
  {
   "cell_type": "code",
   "execution_count": 21,
   "metadata": {
    "ExecuteTime": {
     "end_time": "2019-06-14T16:53:27.237000+02:00",
     "start_time": "2019-06-14T14:52:53.939Z"
    },
    "solution2": "hidden"
   },
   "outputs": [
    {
     "ename": "UndefVarError",
     "evalue": "UndefVarError: mean not defined",
     "output_type": "error",
     "traceback": [
      "UndefVarError: mean not defined",
      "",
      "Stacktrace:",
      " [1] top-level scope at In[21]:1"
     ]
    }
   ],
   "source": [
    "by(train, :Gender, :ApplicantIncome => mean)"
   ]
  },
  {
   "cell_type": "markdown",
   "metadata": {
    "ExecuteTime": {
     "end_time": "2019-06-14T15:04:21.961000+02:00",
     "start_time": "2019-06-14T13:04:21.959Z"
    }
   },
   "source": [
    "### Drop missing values"
   ]
  },
  {
   "cell_type": "code",
   "execution_count": 22,
   "metadata": {
    "ExecuteTime": {
     "end_time": "2019-06-14T16:53:28.331000+02:00",
     "start_time": "2019-06-14T14:52:53.941Z"
    }
   },
   "outputs": [
    {
     "data": {
      "text/html": [
       "<table class=\"data-frame\"><thead><tr><th></th><th>Loan_ID</th><th>Gender</th><th>Married</th><th>Dependents</th><th>Education</th><th>Self_Employed</th><th>ApplicantIncome</th></tr><tr><th></th><th>String</th><th>String</th><th>String</th><th>String</th><th>String</th><th>String</th><th>Int64</th></tr></thead><tbody><p>289 rows × 12 columns (omitted printing of 5 columns)</p><tr><th>1</th><td>LP001015</td><td>Male</td><td>Yes</td><td>0</td><td>Graduate</td><td>No</td><td>5720</td></tr><tr><th>2</th><td>LP001022</td><td>Male</td><td>Yes</td><td>1</td><td>Graduate</td><td>No</td><td>3076</td></tr><tr><th>3</th><td>LP001031</td><td>Male</td><td>Yes</td><td>2</td><td>Graduate</td><td>No</td><td>5000</td></tr><tr><th>4</th><td>LP001051</td><td>Male</td><td>No</td><td>0</td><td>Not Graduate</td><td>No</td><td>3276</td></tr><tr><th>5</th><td>LP001054</td><td>Male</td><td>Yes</td><td>0</td><td>Not Graduate</td><td>Yes</td><td>2165</td></tr><tr><th>6</th><td>LP001055</td><td>Female</td><td>No</td><td>1</td><td>Not Graduate</td><td>No</td><td>2226</td></tr><tr><th>7</th><td>LP001056</td><td>Male</td><td>Yes</td><td>2</td><td>Not Graduate</td><td>No</td><td>3881</td></tr><tr><th>8</th><td>LP001067</td><td>Male</td><td>No</td><td>0</td><td>Not Graduate</td><td>No</td><td>2400</td></tr><tr><th>9</th><td>LP001078</td><td>Male</td><td>No</td><td>0</td><td>Not Graduate</td><td>No</td><td>3091</td></tr><tr><th>10</th><td>LP001096</td><td>Female</td><td>No</td><td>0</td><td>Graduate</td><td>No</td><td>4666</td></tr><tr><th>11</th><td>LP001099</td><td>Male</td><td>No</td><td>1</td><td>Graduate</td><td>No</td><td>5667</td></tr><tr><th>12</th><td>LP001105</td><td>Male</td><td>Yes</td><td>2</td><td>Graduate</td><td>No</td><td>4583</td></tr><tr><th>13</th><td>LP001107</td><td>Male</td><td>Yes</td><td>3+</td><td>Graduate</td><td>No</td><td>3786</td></tr><tr><th>14</th><td>LP001108</td><td>Male</td><td>Yes</td><td>0</td><td>Graduate</td><td>No</td><td>9226</td></tr><tr><th>15</th><td>LP001115</td><td>Male</td><td>No</td><td>0</td><td>Graduate</td><td>No</td><td>1300</td></tr><tr><th>16</th><td>LP001121</td><td>Male</td><td>Yes</td><td>1</td><td>Not Graduate</td><td>No</td><td>1888</td></tr><tr><th>17</th><td>LP001124</td><td>Female</td><td>No</td><td>3+</td><td>Not Graduate</td><td>No</td><td>2083</td></tr><tr><th>18</th><td>LP001135</td><td>Female</td><td>No</td><td>0</td><td>Not Graduate</td><td>No</td><td>3765</td></tr><tr><th>19</th><td>LP001149</td><td>Male</td><td>Yes</td><td>0</td><td>Graduate</td><td>No</td><td>5400</td></tr><tr><th>20</th><td>LP001153</td><td>Male</td><td>No</td><td>0</td><td>Graduate</td><td>No</td><td>0</td></tr><tr><th>21</th><td>LP001169</td><td>Male</td><td>Yes</td><td>0</td><td>Graduate</td><td>No</td><td>7500</td></tr><tr><th>22</th><td>LP001176</td><td>Male</td><td>No</td><td>0</td><td>Graduate</td><td>No</td><td>2942</td></tr><tr><th>23</th><td>LP001177</td><td>Female</td><td>No</td><td>0</td><td>Not Graduate</td><td>No</td><td>2478</td></tr><tr><th>24</th><td>LP001183</td><td>Male</td><td>Yes</td><td>2</td><td>Graduate</td><td>No</td><td>6250</td></tr><tr><th>25</th><td>LP001185</td><td>Male</td><td>No</td><td>0</td><td>Graduate</td><td>No</td><td>3268</td></tr><tr><th>26</th><td>LP001187</td><td>Male</td><td>Yes</td><td>0</td><td>Graduate</td><td>No</td><td>2783</td></tr><tr><th>27</th><td>LP001190</td><td>Male</td><td>Yes</td><td>0</td><td>Graduate</td><td>No</td><td>2740</td></tr><tr><th>28</th><td>LP001203</td><td>Male</td><td>No</td><td>0</td><td>Graduate</td><td>No</td><td>3150</td></tr><tr><th>29</th><td>LP001210</td><td>Male</td><td>Yes</td><td>0</td><td>Graduate</td><td>Yes</td><td>2267</td></tr><tr><th>30</th><td>LP001211</td><td>Male</td><td>No</td><td>0</td><td>Graduate</td><td>Yes</td><td>5833</td></tr><tr><th>&vellip;</th><td>&vellip;</td><td>&vellip;</td><td>&vellip;</td><td>&vellip;</td><td>&vellip;</td><td>&vellip;</td><td>&vellip;</td></tr></tbody></table>"
      ],
      "text/latex": [
       "\\begin{tabular}{r|cccccccc}\n",
       "\t& Loan\\_ID & Gender & Married & Dependents & Education & Self\\_Employed & ApplicantIncome & \\\\\n",
       "\t\\hline\n",
       "\t& String & String & String & String & String & String & Int64 & \\\\\n",
       "\t\\hline\n",
       "\t1 & LP001015 & Male & Yes & 0 & Graduate & No & 5720 & $\\dots$ \\\\\n",
       "\t2 & LP001022 & Male & Yes & 1 & Graduate & No & 3076 & $\\dots$ \\\\\n",
       "\t3 & LP001031 & Male & Yes & 2 & Graduate & No & 5000 & $\\dots$ \\\\\n",
       "\t4 & LP001051 & Male & No & 0 & Not Graduate & No & 3276 & $\\dots$ \\\\\n",
       "\t5 & LP001054 & Male & Yes & 0 & Not Graduate & Yes & 2165 & $\\dots$ \\\\\n",
       "\t6 & LP001055 & Female & No & 1 & Not Graduate & No & 2226 & $\\dots$ \\\\\n",
       "\t7 & LP001056 & Male & Yes & 2 & Not Graduate & No & 3881 & $\\dots$ \\\\\n",
       "\t8 & LP001067 & Male & No & 0 & Not Graduate & No & 2400 & $\\dots$ \\\\\n",
       "\t9 & LP001078 & Male & No & 0 & Not Graduate & No & 3091 & $\\dots$ \\\\\n",
       "\t10 & LP001096 & Female & No & 0 & Graduate & No & 4666 & $\\dots$ \\\\\n",
       "\t11 & LP001099 & Male & No & 1 & Graduate & No & 5667 & $\\dots$ \\\\\n",
       "\t12 & LP001105 & Male & Yes & 2 & Graduate & No & 4583 & $\\dots$ \\\\\n",
       "\t13 & LP001107 & Male & Yes & 3+ & Graduate & No & 3786 & $\\dots$ \\\\\n",
       "\t14 & LP001108 & Male & Yes & 0 & Graduate & No & 9226 & $\\dots$ \\\\\n",
       "\t15 & LP001115 & Male & No & 0 & Graduate & No & 1300 & $\\dots$ \\\\\n",
       "\t16 & LP001121 & Male & Yes & 1 & Not Graduate & No & 1888 & $\\dots$ \\\\\n",
       "\t17 & LP001124 & Female & No & 3+ & Not Graduate & No & 2083 & $\\dots$ \\\\\n",
       "\t18 & LP001135 & Female & No & 0 & Not Graduate & No & 3765 & $\\dots$ \\\\\n",
       "\t19 & LP001149 & Male & Yes & 0 & Graduate & No & 5400 & $\\dots$ \\\\\n",
       "\t20 & LP001153 & Male & No & 0 & Graduate & No & 0 & $\\dots$ \\\\\n",
       "\t21 & LP001169 & Male & Yes & 0 & Graduate & No & 7500 & $\\dots$ \\\\\n",
       "\t22 & LP001176 & Male & No & 0 & Graduate & No & 2942 & $\\dots$ \\\\\n",
       "\t23 & LP001177 & Female & No & 0 & Not Graduate & No & 2478 & $\\dots$ \\\\\n",
       "\t24 & LP001183 & Male & Yes & 2 & Graduate & No & 6250 & $\\dots$ \\\\\n",
       "\t25 & LP001185 & Male & No & 0 & Graduate & No & 3268 & $\\dots$ \\\\\n",
       "\t26 & LP001187 & Male & Yes & 0 & Graduate & No & 2783 & $\\dots$ \\\\\n",
       "\t27 & LP001190 & Male & Yes & 0 & Graduate & No & 2740 & $\\dots$ \\\\\n",
       "\t28 & LP001203 & Male & No & 0 & Graduate & No & 3150 & $\\dots$ \\\\\n",
       "\t29 & LP001210 & Male & Yes & 0 & Graduate & Yes & 2267 & $\\dots$ \\\\\n",
       "\t30 & LP001211 & Male & No & 0 & Graduate & Yes & 5833 & $\\dots$ \\\\\n",
       "\t$\\dots$ & $\\dots$ & $\\dots$ & $\\dots$ & $\\dots$ & $\\dots$ & $\\dots$ & $\\dots$ &  \\\\\n",
       "\\end{tabular}\n"
      ],
      "text/plain": [
       "289×12 DataFrame. Omitted printing of 7 columns\n",
       "│ Row │ Loan_ID  │ Gender │ Married │ Dependents │ Education    │\n",
       "│     │ \u001b[90mString\u001b[39m   │ \u001b[90mString\u001b[39m │ \u001b[90mString\u001b[39m  │ \u001b[90mString\u001b[39m     │ \u001b[90mString\u001b[39m       │\n",
       "├─────┼──────────┼────────┼─────────┼────────────┼──────────────┤\n",
       "│ 1   │ LP001015 │ Male   │ Yes     │ 0          │ Graduate     │\n",
       "│ 2   │ LP001022 │ Male   │ Yes     │ 1          │ Graduate     │\n",
       "│ 3   │ LP001031 │ Male   │ Yes     │ 2          │ Graduate     │\n",
       "│ 4   │ LP001051 │ Male   │ No      │ 0          │ Not Graduate │\n",
       "│ 5   │ LP001054 │ Male   │ Yes     │ 0          │ Not Graduate │\n",
       "│ 6   │ LP001055 │ Female │ No      │ 1          │ Not Graduate │\n",
       "│ 7   │ LP001056 │ Male   │ Yes     │ 2          │ Not Graduate │\n",
       "│ 8   │ LP001067 │ Male   │ No      │ 0          │ Not Graduate │\n",
       "│ 9   │ LP001078 │ Male   │ No      │ 0          │ Not Graduate │\n",
       "│ 10  │ LP001096 │ Female │ No      │ 0          │ Graduate     │\n",
       "⋮\n",
       "│ 279 │ LP002920 │ Male   │ Yes     │ 0          │ Graduate     │\n",
       "│ 280 │ LP002921 │ Male   │ Yes     │ 3+         │ Not Graduate │\n",
       "│ 281 │ LP002932 │ Male   │ Yes     │ 3+         │ Graduate     │\n",
       "│ 282 │ LP002935 │ Male   │ Yes     │ 1          │ Graduate     │\n",
       "│ 283 │ LP002952 │ Male   │ No      │ 0          │ Graduate     │\n",
       "│ 284 │ LP002962 │ Male   │ No      │ 0          │ Graduate     │\n",
       "│ 285 │ LP002969 │ Male   │ Yes     │ 1          │ Graduate     │\n",
       "│ 286 │ LP002971 │ Male   │ Yes     │ 3+         │ Not Graduate │\n",
       "│ 287 │ LP002975 │ Male   │ Yes     │ 0          │ Graduate     │\n",
       "│ 288 │ LP002986 │ Male   │ Yes     │ 0          │ Graduate     │\n",
       "│ 289 │ LP002989 │ Male   │ No      │ 0          │ Graduate     │"
      ]
     },
     "execution_count": 22,
     "metadata": {},
     "output_type": "execute_result"
    }
   ],
   "source": [
    "train_nona = dropmissing(train)\n",
    "test_nona = dropmissing(test)"
   ]
  },
  {
   "cell_type": "markdown",
   "metadata": {},
   "source": [
    "## Label encoder"
   ]
  },
  {
   "cell_type": "code",
   "execution_count": 23,
   "metadata": {
    "ExecuteTime": {
     "end_time": "2019-06-14T16:53:41.517000+02:00",
     "start_time": "2019-06-14T14:52:53.944Z"
    }
   },
   "outputs": [
    {
     "name": "stdout",
     "output_type": "stream",
     "text": [
      "\u001b[32m\u001b[1m Resolving\u001b[22m\u001b[39m package versions...\n",
      "\u001b[32m\u001b[1m  Updating\u001b[22m\u001b[39m `~/.julia/environments/v1.1/Project.toml`\n",
      "\u001b[90m [no changes]\u001b[39m\n",
      "\u001b[32m\u001b[1m  Updating\u001b[22m\u001b[39m `~/.julia/environments/v1.1/Manifest.toml`\n",
      "\u001b[90m [no changes]\u001b[39m\n"
     ]
    },
    {
     "name": "stderr",
     "output_type": "stream",
     "text": [
      "┌ Warning: `getindex(o::PyObject, s::Symbol)` is deprecated in favor of dot overloading (`getproperty`) so elements should now be accessed as e.g. `o.s` instead of `o[:s]`.\n",
      "│   caller = import_sklearn() at Skcore.jl:120\n",
      "└ @ ScikitLearn.Skcore /Users/sandrapietrowska/.julia/packages/ScikitLearn/HK6Vs/src/Skcore.jl:120\n",
      "┌ Warning: `getindex(o::PyObject, s::Symbol)` is deprecated in favor of dot overloading (`getproperty`) so elements should now be accessed as e.g. `o.s` instead of `o[:s]`.\n",
      "│   caller = top-level scope at Skcore.jl:158\n",
      "└ @ Core /Users/sandrapietrowska/.julia/packages/ScikitLearn/HK6Vs/src/Skcore.jl:158\n"
     ]
    },
    {
     "data": {
      "text/plain": [
       "PyObject <class 'sklearn.preprocessing.label.LabelEncoder'>"
      ]
     },
     "execution_count": 23,
     "metadata": {},
     "output_type": "execute_result"
    }
   ],
   "source": [
    "Pkg.add(\"ScikitLearn\")\n",
    "using ScikitLearn \n",
    "@sk_import preprocessing: LabelEncoder "
   ]
  },
  {
   "cell_type": "markdown",
   "metadata": {
    "ExecuteTime": {
     "end_time": "2019-06-14T15:55:47.990000+02:00",
     "start_time": "2019-06-14T13:55:47.943Z"
    }
   },
   "source": [
    "### Apply <em>fit_transform!</em> to each category"
   ]
  },
  {
   "cell_type": "code",
   "execution_count": 24,
   "metadata": {
    "ExecuteTime": {
     "end_time": "2019-06-14T16:53:42.871000+02:00",
     "start_time": "2019-06-14T14:52:53.946Z"
    }
   },
   "outputs": [
    {
     "data": {
      "text/plain": [
       "1×7 Array{Int64,2}:\n",
       " 2  3  4  5  6  12  13"
      ]
     },
     "execution_count": 24,
     "metadata": {},
     "output_type": "execute_result"
    }
   ],
   "source": [
    "labelencoder = LabelEncoder() \n",
    "categories = [2 3 4 5 6 12 13] "
   ]
  },
  {
   "cell_type": "code",
   "execution_count": null,
   "metadata": {
    "solution2": "hidden",
    "solution2_first": true
   },
   "outputs": [],
   "source": []
  },
  {
   "cell_type": "code",
   "execution_count": 25,
   "metadata": {
    "ExecuteTime": {
     "end_time": "2019-06-14T16:53:43.331000+02:00",
     "start_time": "2019-06-14T14:52:53.951Z"
    },
    "scrolled": true,
    "solution2": "hidden"
   },
   "outputs": [
    {
     "name": "stderr",
     "output_type": "stream",
     "text": [
      "┌ Warning: `getindex(o::PyObject, s::Symbol)` is deprecated in favor of dot overloading (`getproperty`) so elements should now be accessed as e.g. `o.s` instead of `o[:s]`.\n",
      "│   caller = #fit_transform!#25(::Base.Iterators.Pairs{Union{},Union{},Tuple{},NamedTuple{(),Tuple{}}}, ::Function, ::PyCall.PyObject, ::Array{String,1}) at Skcore.jl:100\n",
      "└ @ ScikitLearn.Skcore /Users/sandrapietrowska/.julia/packages/ScikitLearn/HK6Vs/src/Skcore.jl:100\n"
     ]
    }
   ],
   "source": [
    "for col in categories \n",
    "     train_nona[col] = fit_transform!(labelencoder, train_nona[col]) \n",
    "end"
   ]
  },
  {
   "cell_type": "markdown",
   "metadata": {},
   "source": [
    "### Using convert function create label, train and test arrays"
   ]
  },
  {
   "cell_type": "code",
   "execution_count": 26,
   "metadata": {
    "ExecuteTime": {
     "end_time": "2019-06-14T16:53:43.670000+02:00",
     "start_time": "2019-06-14T14:52:53.953Z"
    }
   },
   "outputs": [
    {
     "data": {
      "text/plain": [
       "9-element Array{Symbol,1}:\n",
       " :Gender          \n",
       " :Married         \n",
       " :Dependents      \n",
       " :Education       \n",
       " :Self_Employed   \n",
       " :Loan_Amount_Term\n",
       " :Credit_History  \n",
       " :Property_Area   \n",
       " :LoanAmount      "
      ]
     },
     "execution_count": 26,
     "metadata": {},
     "output_type": "execute_result"
    }
   ],
   "source": [
    "predictors = [:Gender, :Married, :Dependents, :Education, :Self_Employed, \n",
    "    :Loan_Amount_Term, :Credit_History, :Property_Area, :LoanAmount]"
   ]
  },
  {
   "cell_type": "code",
   "execution_count": null,
   "metadata": {
    "solution2": "hidden",
    "solution2_first": true
   },
   "outputs": [],
   "source": []
  },
  {
   "cell_type": "code",
   "execution_count": 27,
   "metadata": {
    "ExecuteTime": {
     "end_time": "2019-06-14T16:53:45.003000+02:00",
     "start_time": "2019-06-14T14:52:53.957Z"
    },
    "solution2": "hidden"
   },
   "outputs": [
    {
     "name": "stderr",
     "output_type": "stream",
     "text": [
      "┌ Warning: `convert(::Type{Array}, df::AbstractDataFrame)` is deprecated, use `convert(Matrix, df)` instead.\n",
      "│   caller = top-level scope at In[27]:2\n",
      "└ @ Core In[27]:2\n",
      "┌ Warning: `convert(::Type{Array}, df::AbstractDataFrame)` is deprecated, use `convert(Matrix, df)` instead.\n",
      "│   caller = top-level scope at In[27]:3\n",
      "└ @ Core In[27]:3\n"
     ]
    },
    {
     "data": {
      "text/plain": [
       "289×9 Array{Any,2}:\n",
       " \"Male\"    \"Yes\"  \"0\"   \"Graduate\"      \"No\"   360  1  \"Urban\"      110\n",
       " \"Male\"    \"Yes\"  \"1\"   \"Graduate\"      \"No\"   360  1  \"Urban\"      126\n",
       " \"Male\"    \"Yes\"  \"2\"   \"Graduate\"      \"No\"   360  1  \"Urban\"      208\n",
       " \"Male\"    \"No\"   \"0\"   \"Not Graduate\"  \"No\"   360  1  \"Urban\"       78\n",
       " \"Male\"    \"Yes\"  \"0\"   \"Not Graduate\"  \"Yes\"  360  1  \"Urban\"      152\n",
       " \"Female\"  \"No\"   \"1\"   \"Not Graduate\"  \"No\"   360  1  \"Semiurban\"   59\n",
       " \"Male\"    \"Yes\"  \"2\"   \"Not Graduate\"  \"No\"   360  0  \"Rural\"      147\n",
       " \"Male\"    \"No\"   \"0\"   \"Not Graduate\"  \"No\"   360  1  \"Semiurban\"  123\n",
       " \"Male\"    \"No\"   \"0\"   \"Not Graduate\"  \"No\"   360  1  \"Urban\"       90\n",
       " \"Female\"  \"No\"   \"0\"   \"Graduate\"      \"No\"   360  1  \"Semiurban\"  124\n",
       " \"Male\"    \"No\"   \"1\"   \"Graduate\"      \"No\"   360  1  \"Urban\"      131\n",
       " \"Male\"    \"Yes\"  \"2\"   \"Graduate\"      \"No\"   360  1  \"Urban\"      200\n",
       " \"Male\"    \"Yes\"  \"3+\"  \"Graduate\"      \"No\"   360  1  \"Semiurban\"  126\n",
       " ⋮                                               ⋮                     \n",
       " \"Male\"    \"Yes\"  \"0\"   \"Graduate\"      \"No\"   360  1  \"Urban\"      109\n",
       " \"Male\"    \"Yes\"  \"0\"   \"Graduate\"      \"No\"   360  1  \"Rural\"      120\n",
       " \"Male\"    \"Yes\"  \"3+\"  \"Not Graduate\"  \"No\"   180  0  \"Semiurban\"  158\n",
       " \"Male\"    \"Yes\"  \"3+\"  \"Graduate\"      \"No\"   360  1  \"Urban\"      197\n",
       " \"Male\"    \"Yes\"  \"1\"   \"Graduate\"      \"No\"   360  1  \"Urban\"       85\n",
       " \"Male\"    \"No\"   \"0\"   \"Graduate\"      \"No\"   360  1  \"Urban\"       60\n",
       " \"Male\"    \"No\"   \"0\"   \"Graduate\"      \"No\"   360  1  \"Semiurban\"  152\n",
       " \"Male\"    \"Yes\"  \"1\"   \"Graduate\"      \"No\"   360  1  \"Semiurban\"   99\n",
       " \"Male\"    \"Yes\"  \"3+\"  \"Not Graduate\"  \"Yes\"  360  1  \"Urban\"      113\n",
       " \"Male\"    \"Yes\"  \"0\"   \"Graduate\"      \"No\"   360  1  \"Urban\"      115\n",
       " \"Male\"    \"Yes\"  \"0\"   \"Graduate\"      \"No\"   360  1  \"Rural\"      158\n",
       " \"Male\"    \"No\"   \"0\"   \"Graduate\"      \"Yes\"  180  1  \"Rural\"       98"
      ]
     },
     "execution_count": 27,
     "metadata": {},
     "output_type": "execute_result"
    }
   ],
   "source": [
    "y = convert(Array, train_nona[:13]) \n",
    "X = convert(Array, train_nona[predictors]) \n",
    "X2 = convert(Array, test_nona[predictors])       "
   ]
  },
  {
   "cell_type": "markdown",
   "metadata": {},
   "source": [
    "## Fit model"
   ]
  },
  {
   "cell_type": "code",
   "execution_count": 28,
   "metadata": {
    "ExecuteTime": {
     "end_time": "2019-06-14T16:53:45.128000+02:00",
     "start_time": "2019-06-14T14:52:53.959Z"
    }
   },
   "outputs": [
    {
     "ename": "UndefVarError",
     "evalue": "UndefVarError: LogisticRegression not defined",
     "output_type": "error",
     "traceback": [
      "UndefVarError: LogisticRegression not defined",
      "",
      "Stacktrace:",
      " [1] top-level scope at In[28]:1"
     ]
    }
   ],
   "source": [
    "model = LogisticRegression()\n",
    "fit!(model, X, y) "
   ]
  },
  {
   "cell_type": "code",
   "execution_count": 29,
   "metadata": {
    "ExecuteTime": {
     "end_time": "2019-06-14T16:53:45.130000+02:00",
     "start_time": "2019-06-14T14:52:53.961Z"
    }
   },
   "outputs": [
    {
     "ename": "UndefVarError",
     "evalue": "UndefVarError: model not defined",
     "output_type": "error",
     "traceback": [
      "UndefVarError: model not defined",
      "",
      "Stacktrace:",
      " [1] top-level scope at In[29]:1"
     ]
    }
   ],
   "source": [
    "predictions = predict(model, X) "
   ]
  },
  {
   "cell_type": "markdown",
   "metadata": {},
   "source": [
    "## Evaluation"
   ]
  },
  {
   "cell_type": "markdown",
   "metadata": {},
   "source": [
    "### Calculate accuracy"
   ]
  },
  {
   "cell_type": "code",
   "execution_count": null,
   "metadata": {
    "solution2": "hidden",
    "solution2_first": true
   },
   "outputs": [],
   "source": []
  },
  {
   "cell_type": "code",
   "execution_count": 30,
   "metadata": {
    "ExecuteTime": {
     "end_time": "2019-06-14T16:53:45.131000+02:00",
     "start_time": "2019-06-14T14:52:53.966Z"
    },
    "solution2": "hidden"
   },
   "outputs": [
    {
     "ename": "UndefVarError",
     "evalue": "UndefVarError: accuracy_score not defined",
     "output_type": "error",
     "traceback": [
      "UndefVarError: accuracy_score not defined",
      "",
      "Stacktrace:",
      " [1] top-level scope at In[30]:1"
     ]
    }
   ],
   "source": [
    "accuracy = accuracy_score(predictions, y) \n",
    "println(\"Accuracy : \", accuracy) "
   ]
  },
  {
   "cell_type": "markdown",
   "metadata": {},
   "source": [
    "### Use <em>cross_val_score</em> to do cross validation with 5 folds"
   ]
  },
  {
   "cell_type": "code",
   "execution_count": null,
   "metadata": {
    "solution2": "hidden",
    "solution2_first": true
   },
   "outputs": [],
   "source": []
  },
  {
   "cell_type": "code",
   "execution_count": 31,
   "metadata": {
    "ExecuteTime": {
     "end_time": "2019-06-14T16:53:45.137000+02:00",
     "start_time": "2019-06-14T14:52:53.969Z"
    },
    "solution2": "hidden"
   },
   "outputs": [
    {
     "ename": "UndefVarError",
     "evalue": "UndefVarError: cross_val_score not defined",
     "output_type": "error",
     "traceback": [
      "UndefVarError: cross_val_score not defined",
      "",
      "Stacktrace:",
      " [1] top-level scope at In[31]:1"
     ]
    }
   ],
   "source": [
    "cross_score = cross_val_score(model, X, y, cv=5)    "
   ]
  }
 ],
 "metadata": {
  "kernelspec": {
   "display_name": "Julia 1.1.1",
   "language": "julia",
   "name": "julia-1.1"
  },
  "language_info": {
   "file_extension": ".jl",
   "mimetype": "application/julia",
   "name": "julia",
   "version": "1.1.1"
  },
  "toc": {
   "base_numbering": 1,
   "nav_menu": {},
   "number_sections": true,
   "sideBar": true,
   "skip_h1_title": false,
   "title_cell": "Table of Contents",
   "title_sidebar": "Contents",
   "toc_cell": false,
   "toc_position": {},
   "toc_section_display": true,
   "toc_window_display": true
  }
 },
 "nbformat": 4,
 "nbformat_minor": 2
}
